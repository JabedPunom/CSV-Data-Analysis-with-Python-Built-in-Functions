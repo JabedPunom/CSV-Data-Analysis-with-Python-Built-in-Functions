{
 "cells": [
  {
   "cell_type": "markdown",
   "metadata": {
    "deletable": false
   },
   "source": [
    "# UFCFVQ-15-M Programming for Data Science (Autumn 2023)\n"
   ]
  },
  {
   "cell_type": "markdown",
   "metadata": {},
   "source": [
    "## Student Id: 23057838\n"
   ]
  },
  {
   "cell_type": "markdown",
   "metadata": {
    "deletable": false
   },
   "source": [
    "# Programming Task 1"
   ]
  },
  {
   "cell_type": "markdown",
   "metadata": {
    "deletable": false
   },
   "source": [
    "### Requirement FR1 - Develop a function to read a single column from a CSV file"
   ]
  },
  {
   "cell_type": "code",
   "execution_count": 11,
   "metadata": {},
   "outputs": [
    {
     "name": "stdout",
     "output_type": "stream",
     "text": [
      "\"Cardiovascular\"\n",
      "[37, 34, 24, 38, 35, 38, 37, 32, 35, 36, 35, 31, 42, 47, 32, 30, 34, 30, 39, 35, 50, 40, 50, 30, 37, 50, 33, 39, 40, 39, 43, 39, 24, 36, 43, 34, 23, 33, 29, 40, 30, 29, 32, 42, 44, 41, 41, 35, 33, 29, 34, 56, 22, 34, 24, 37, 52, 24, 29, 34, 40, 52, 35, 41, 13, 38, 31, 30, 30, 35, 45, 44, 27, 43, 28, 35, 36, 0, 55, 41, 73, 16, 38, 28, 30, 32, 25, 41, 35, 24, 33, 28, 70, 48, 37, 44, 38, 35, 29, 46, 35, 39, 41, 31, 23, 44, 64, 33, 50, 25, 34, 30, 37, 42, 49, 82, 77, 36, 78, 47, 42, 45, 56, 36, 32, 36, 27, 39, 31, 29, 36, 32, 32, 28, 25, 29, 47, 34, 29, 38, 33, 44, 39, 22, 40, 45, 33, 78, 31, 46, 46, 30, 100, 51, 44, 43, 31, 37, 47, 36, 32, 34, 31, 19, 28, 14, 31, 0, 44, 28, 28, 46, 25, 31, 31, 28, 31, 26, 33, 28, 27, 52, 10, 27, 31, 57, 19, 27, 29, 0, 44, 31, 35, 33, 27, 29, 25, 30, 23, 22, 31, 26, 37, 27, 31, 24, 29, 42, 38, 33]\n"
     ]
    }
   ],
   "source": [
    "def read_csv_column(file_name, column_number):\n",
    "    \"\"\"\n",
    "    This function reads a CSV file and returns the column name and values of a specified column. \n",
    "    Take two parameter one for call the file and another is call the column number which column \n",
    "    we want to see \"\"\"\n",
    "    with open(file_name, 'r') as file:\n",
    "        # Read all lines in the file\n",
    "        lines = file.readlines()\n",
    "        \n",
    "        # Get the column name by splitting the first line and selecting the column at the specified index\n",
    "        column_name = lines[0].strip().split(',')[column_number]\n",
    "        \n",
    "        # Initialize an empty list to store the column values\n",
    "        column_values = []\n",
    "        \n",
    "        # Iterate over the lines (excluding the first one)\n",
    "        for line in lines[1:]:\n",
    "            # Split each line into columns\n",
    "            columns = line.strip().split(',')\n",
    "            \n",
    "            # Convert the value at the specified column index to an integer and append it to the list\n",
    "            column_values.append(int(columns[column_number]))\n",
    "    \n",
    "    # Return the column name and values\n",
    "    return column_name, column_values\n",
    "\n",
    "# Call the function with the file name and column index\n",
    "column_name, column_values = read_csv_column('task1.csv', 1)\n",
    "\n",
    "# Print the column name and values\n",
    "print(f'\"{column_name.capitalize()}\"')\n",
    "print(f\"{column_values}\")\n"
   ]
  },
  {
   "cell_type": "markdown",
   "metadata": {
    "deletable": false
   },
   "source": [
    "### Requirement FR2 - Develop a function to read CSV data from a file into memory"
   ]
  },
  {
   "cell_type": "code",
   "execution_count": 12,
   "metadata": {
    "deletable": false
   },
   "outputs": [
    {
     "name": "stdout",
     "output_type": "stream",
     "text": [
      "{\n",
      "  \"﻿cancer\":[70, 70, 68, 53, 75, 69, 70, 63, 73, 66, 70, 63, 68, 69, 72, 65, 69, 61, 68, 67, 68, 65, 65, 68, 64, 63, 68, 69, 61, 72, 63, 75, 67, 72, 63, 69, 73, 70, 69, 73, 69, 73, 65, 70, 64, 64, 63, 68, 70, 70, 70, 62, 81, 69, 72, 69, 66, 67, 70, 84, 65, 65, 63, 81, 65, 67, 66, 67, 61, 76, 66, 70, 67, 70, 73, 63, 62, 82, 75, 65, 74, 68, 81, 76, 57, 65, 62, 64, 65, 63, 69, 65, 100, 65, 62, 66, 64, 61, 64, 60, 55, 64, 57, 63, 59, 66, 68, 70, 70, 51, 58, 57, 55, 68, 67, 72, 67, 58, 61, 60, 58, 67, 68, 66, 62, 59, 66, 64, 60, 63, 65, 55, 56, 63, 59, 60, 65, 73, 65, 65, 61, 64, 65, 63, 70, 59, 67, 68, 66, 64, 64, 65, 68, 57, 68, 65, 64, 66, 72, 68, 67, 64, 67, 57, 59, 52, 63, 58, 47, 58, 61, 64, 62, 60, 65, 58, 57, 64, 49, 59, 59, 59, 67, 59, 55, 57, 57, 65, 61, 58, 59, 61, 61, 59, 64, 56, 58, 59, 64, 57, 56, 60, 61, 57, 59, 53, 59, 56, 58, 63]\n",
      "  \"Cardiovascular\":[37, 34, 24, 38, 35, 38, 37, 32, 35, 36, 35, 31, 42, 47, 32, 30, 34, 30, 39, 35, 50, 40, 50, 30, 37, 50, 33, 39, 40, 39, 43, 39, 24, 36, 43, 34, 23, 33, 29, 40, 30, 29, 32, 42, 44, 41, 41, 35, 33, 29, 34, 56, 22, 34, 24, 37, 52, 24, 29, 34, 40, 52, 35, 41, 13, 38, 31, 30, 30, 35, 45, 44, 27, 43, 28, 35, 36, 0, 55, 41, 73, 16, 38, 28, 30, 32, 25, 41, 35, 24, 33, 28, 70, 48, 37, 44, 38, 35, 29, 46, 35, 39, 41, 31, 23, 44, 64, 33, 50, 25, 34, 30, 37, 42, 49, 82, 77, 36, 78, 47, 42, 45, 56, 36, 32, 36, 27, 39, 31, 29, 36, 32, 32, 28, 25, 29, 47, 34, 29, 38, 33, 44, 39, 22, 40, 45, 33, 78, 31, 46, 46, 30, 100, 51, 44, 43, 31, 37, 47, 36, 32, 34, 31, 19, 28, 14, 31, 0, 44, 28, 28, 46, 25, 31, 31, 28, 31, 26, 33, 28, 27, 52, 10, 27, 31, 57, 19, 27, 29, 0, 44, 31, 35, 33, 27, 29, 25, 30, 23, 22, 31, 26, 37, 27, 31, 24, 29, 42, 38, 33]\n",
      "  \"Stroke\":[83, 53, 71, 62, 61, 66, 58, 71, 73, 67, 65, 54, 65, 79, 65, 62, 73, 64, 71, 76, 75, 59, 74, 75, 62, 69, 70, 63, 53, 74, 75, 84, 66, 63, 67, 63, 73, 95, 62, 69, 87, 73, 64, 64, 67, 84, 74, 67, 70, 69, 83, 71, 88, 95, 88, 67, 67, 71, 69, 81, 64, 68, 72, 89, 65, 68, 69, 78, 70, 77, 77, 75, 74, 84, 73, 83, 59, 84, 76, 69, 85, 72, 79, 81, 63, 58, 70, 75, 67, 84, 66, 63, 88, 77, 68, 66, 64, 59, 79, 72, 55, 75, 65, 57, 74, 78, 81, 73, 84, 56, 67, 54, 49, 72, 75, 84, 68, 57, 74, 86, 79, 90, 68, 70, 64, 65, 69, 78, 77, 71, 74, 73, 68, 67, 65, 61, 70, 73, 96, 70, 62, 70, 76, 82, 73, 74, 80, 73, 80, 90, 83, 83, 76, 67, 72, 74, 64, 86, 77, 84, 79, 81, 74, 80, 67, 72, 86, 100, 48, 59, 61, 64, 79, 79, 78, 70, 78, 59, 71, 73, 70, 53, 75, 93, 68, 55, 74, 64, 65, 0, 58, 75, 76, 55, 70, 53, 60, 69, 77, 63, 62, 81, 57, 55, 55, 60, 64, 61, 76, 77]\n",
      "  \"Depression\":[64, 56, 69, 46, 62, 61, 62, 60, 65, 69, 64, 54, 60, 72, 66, 62, 72, 56, 60, 58, 61, 63, 61, 72, 54, 62, 66, 66, 45, 61, 60, 67, 65, 65, 51, 61, 71, 72, 61, 53, 66, 69, 63, 73, 59, 62, 69, 71, 54, 70, 58, 71, 100, 68, 73, 62, 67, 60, 74, 82, 61, 55, 69, 74, 72, 65, 63, 71, 58, 50, 66, 72, 60, 58, 72, 73, 70, 85, 66, 67, 60, 82, 62, 68, 60, 59, 65, 65, 71, 66, 61, 65, 72, 65, 66, 65, 62, 53, 66, 57, 52, 76, 64, 58, 65, 56, 61, 76, 64, 53, 62, 54, 55, 67, 68, 58, 54, 57, 63, 65, 63, 49, 66, 71, 61, 64, 58, 50, 69, 64, 60, 54, 64, 60, 61, 57, 64, 68, 74, 63, 63, 68, 53, 58, 65, 61, 66, 59, 71, 69, 63, 61, 60, 60, 72, 62, 64, 69, 71, 75, 62, 79, 35, 59, 54, 58, 55, 59, 59, 54, 68, 59, 70, 53, 71, 58, 74, 59, 65, 63, 59, 67, 64, 66, 66, 60, 61, 63, 64, 0, 60, 59, 67, 58, 52, 52, 62, 60, 63, 56, 58, 59, 59, 66, 52, 59, 55, 68, 63, 61]\n",
      "  \"Rehab\":[56, 53, 44, 60, 75, 57, 72, 47, 72, 43, 52, 43, 56, 54, 61, 48, 60, 50, 68, 46, 58, 55, 56, 63, 48, 52, 51, 49, 47, 82, 58, 55, 54, 76, 62, 49, 58, 57, 45, 71, 45, 61, 44, 73, 47, 53, 47, 57, 77, 45, 53, 63, 66, 55, 56, 45, 47, 65, 50, 51, 51, 87, 44, 61, 42, 65, 59, 65, 48, 57, 84, 51, 53, 54, 72, 44, 26, 45, 64, 39, 72, 77, 56, 46, 51, 45, 60, 57, 47, 61, 59, 45, 37, 62, 36, 57, 43, 40, 58, 55, 50, 38, 45, 76, 72, 71, 79, 35, 68, 51, 48, 51, 43, 38, 45, 76, 62, 53, 55, 58, 84, 97, 48, 61, 48, 56, 60, 64, 62, 37, 66, 100, 92, 38, 74, 77, 68, 40, 41, 50, 42, 44, 61, 36, 69, 51, 90, 79, 34, 45, 54, 65, 53, 60, 42, 70, 51, 41, 46, 70, 75, 26, 38, 28, 39, 19, 53, 32, 29, 47, 68, 61, 46, 33, 50, 65, 40, 80, 31, 45, 55, 39, 58, 42, 50, 36, 43, 49, 45, 0, 26, 40, 43, 37, 40, 28, 34, 43, 40, 42, 44, 39, 37, 28, 52, 28, 36, 36, 59, 43]\n",
      "  \"Vaccine\":[76, 79, 77, 47, 84, 73, 76, 66, 86, 62, 71, 79, 79, 76, 70, 74, 85, 63, 70, 76, 67, 77, 63, 90, 65, 54, 73, 78, 60, 74, 78, 91, 76, 87, 60, 74, 70, 88, 76, 70, 72, 77, 72, 79, 75, 72, 69, 74, 69, 99, 74, 87, 80, 82, 80, 80, 71, 72, 78, 85, 80, 69, 70, 80, 71, 88, 68, 84, 55, 62, 80, 88, 70, 70, 83, 77, 83, 63, 91, 70, 100, 79, 90, 70, 64, 69, 73, 81, 81, 68, 73, 64, 98, 61, 80, 74, 67, 74, 67, 62, 64, 74, 92, 69, 71, 58, 65, 91, 72, 67, 85, 76, 60, 76, 71, 66, 58, 71, 64, 58, 47, 44, 74, 67, 74, 79, 73, 56, 70, 74, 78, 71, 80, 83, 73, 61, 62, 79, 78, 76, 80, 62, 64, 64, 65, 61, 69, 64, 83, 76, 74, 52, 70, 66, 64, 63, 65, 76, 89, 78, 68, 95, 59, 85, 78, 76, 56, 83, 53, 71, 73, 72, 78, 85, 87, 70, 77, 75, 68, 88, 69, 70, 91, 70, 68, 65, 68, 78, 71, 0, 61, 80, 84, 65, 56, 69, 78, 74, 76, 80, 67, 77, 80, 72, 60, 76, 75, 61, 89, 85]\n",
      "  \"Diarrhea\":[66, 56, 78, 53, 69, 70, 58, 70, 79, 73, 73, 55, 66, 76, 74, 74, 75, 65, 69, 69, 69, 68, 68, 68, 65, 73, 81, 74, 46, 77, 68, 89, 72, 65, 65, 76, 84, 67, 72, 69, 75, 91, 80, 72, 69, 74, 69, 80, 65, 87, 67, 69, 75, 75, 100, 72, 63, 85, 94, 90, 65, 70, 72, 94, 83, 77, 72, 69, 69, 64, 76, 82, 82, 79, 83, 79, 61, 95, 66, 74, 67, 90, 98, 88, 81, 66, 82, 81, 77, 78, 72, 76, 87, 79, 66, 71, 68, 61, 80, 70, 61, 68, 75, 76, 84, 81, 70, 87, 89, 77, 84, 63, 62, 77, 72, 80, 65, 71, 72, 76, 94, 68, 76, 83, 77, 75, 77, 71, 85, 74, 76, 74, 77, 73, 78, 59, 69, 72, 69, 72, 70, 79, 72, 81, 86, 71, 74, 73, 71, 76, 80, 86, 75, 68, 91, 70, 71, 80, 75, 78, 97, 80, 80, 67, 63, 80, 66, 70, 59, 66, 77, 70, 66, 92, 65, 68, 65, 85, 75, 64, 66, 66, 69, 75, 69, 71, 66, 73, 68, 0, 77, 65, 61, 61, 78, 50, 72, 68, 66, 63, 59, 55, 61, 51, 65, 56, 66, 73, 70, 75]\n",
      "  \"Obesity\":[47, 52, 61, 41, 56, 45, 58, 44, 52, 49, 51, 59, 67, 63, 52, 49, 57, 47, 52, 45, 61, 48, 62, 59, 48, 47, 58, 58, 49, 52, 54, 50, 48, 62, 41, 49, 45, 78, 58, 45, 48, 67, 49, 72, 52, 58, 73, 57, 49, 46, 54, 63, 58, 43, 43, 62, 56, 41, 37, 61, 58, 47, 51, 58, 43, 45, 48, 69, 42, 42, 62, 65, 49, 39, 50, 54, 82, 0, 77, 53, 94, 42, 50, 44, 42, 49, 52, 86, 61, 50, 48, 37, 100, 38, 53, 50, 56, 44, 45, 50, 39, 60, 81, 0, 45, 45, 49, 62, 54, 32, 38, 43, 56, 72, 52, 53, 49, 44, 41, 39, 37, 86, 77, 51, 49, 66, 51, 29, 31, 51, 50, 53, 31, 55, 47, 52, 56, 53, 66, 49, 60, 51, 46, 47, 37, 35, 58, 52, 82, 59, 47, 51, 43, 57, 67, 72, 60, 57, 61, 66, 52, 67, 0, 50, 51, 51, 37, 0, 40, 50, 42, 50, 61, 40, 36, 54, 71, 47, 47, 46, 64, 53, 46, 45, 54, 48, 56, 55, 49, 0, 51, 86, 47, 53, 47, 45, 48, 54, 40, 46, 58, 50, 56, 64, 42, 53, 55, 63, 62, 53]\n",
      "  \"Diabetes\":[80, 78, 72, 66, 78, 74, 74, 74, 79, 81, 75, 73, 85, 76, 76, 74, 83, 71, 80, 75, 79, 74, 83, 68, 72, 81, 80, 82, 70, 82, 80, 84, 74, 84, 73, 76, 80, 87, 72, 77, 68, 87, 83, 75, 80, 78, 83, 81, 74, 75, 75, 78, 77, 67, 85, 82, 82, 74, 73, 79, 79, 76, 72, 92, 68, 73, 73, 74, 73, 71, 80, 72, 74, 72, 75, 73, 78, 78, 82, 71, 92, 83, 89, 97, 82, 71, 70, 90, 73, 79, 75, 73, 100, 84, 75, 79, 74, 74, 77, 73, 69, 76, 79, 84, 71, 89, 81, 88, 85, 79, 73, 73, 96, 79, 84, 95, 84, 90, 65, 64, 70, 100, 78, 75, 76, 78, 77, 65, 80, 63, 81, 89, 88, 73, 80, 80, 81, 81, 85, 79, 77, 78, 72, 76, 77, 75, 80, 77, 73, 76, 81, 84, 95, 66, 79, 86, 70, 81, 87, 71, 75, 78, 56, 81, 80, 80, 83, 97, 84, 66, 73, 78, 69, 80, 81, 81, 95, 80, 69, 81, 74, 82, 93, 80, 75, 80, 72, 79, 80, 0, 78, 79, 66, 74, 81, 67, 80, 69, 79, 71, 73, 61, 76, 67, 70, 63, 76, 77, 75, 73]\n",
      "}\n"
     ]
    }
   ],
   "source": [
    "def read_csv_data(file_name):\n",
    "    \n",
    "    \"\"\" only different from task 1 is i take one parameter here for just call my csv file and then take two loops \n",
    "    for reading all of the line and first loop is \"\"\"\n",
    "\n",
    "    with open(file_name, 'r') as file:\n",
    "        \n",
    "        # Read all lines in the file\n",
    "        lines = file.readlines()\n",
    "        \n",
    "        \"\"\" it takes the first line from the list, removes any leading or trailing whitespace,and splits it by \n",
    "        commas and gives a list of column names,which is assigned to the variable\"\"\"\n",
    "        \n",
    "        column_names = lines[0].strip().split(',')\n",
    "        \n",
    "        # Initialize an empty dictionary to store the column values\n",
    "        column_values = {}\n",
    "        \n",
    "        \"\"\" this for loop that iterates over the remaining lines in the list, excluding the first one\"\"\"\n",
    "        \n",
    "        for line in lines[1:]:\n",
    "            \n",
    "            # Split each line into columns\n",
    "            columns = line.strip().split(',')\n",
    "            \n",
    "            \"\"\" it starts another for loop that iterates over the range of the length of the column names list\"\"\"\n",
    "            \n",
    "            for i in range(len(column_names)):\n",
    "                \n",
    "                \"\"\" This line checks if the current column name is not in the column values dictionary.\n",
    "                  If so, it creates a new key with the column name and assigns an empty list as its value.\n",
    "                  The next line appends the current column value to the list corresponding to the current \n",
    "                  column name in the column values dictionary.\"\"\"\n",
    "                \n",
    "                if column_names[i] not in column_values:\n",
    "                    column_values[column_names[i]] = []\n",
    "                column_values[column_names[i]].append(columns[i])\n",
    "                \n",
    "     #Return the dictionary of column values\n",
    "    return column_values\n",
    "\n",
    "# Call the function with the file name\n",
    "column_values = read_csv_data('task1.csv')\n",
    "\n",
    "\"\"\" Here i create key value pair to make my output as like dictonary key values where key is the column name and \n",
    "values is the column values \"\"\"\n",
    "print(\"{\")\n",
    "for key, value in column_values.items():\n",
    "    values = [int(v) for v in column_values[key]]\n",
    "    print(f'  \"{key.capitalize()}\":{values}')\n",
    "print(\"}\")"
   ]
  },
  {
   "cell_type": "markdown",
   "metadata": {
    "deletable": false
   },
   "source": [
    "### Requirement FR3 - Develop a function to calculate the Kendall Tau Correlation Coefficient for two lists of data"
   ]
  },
  {
   "cell_type": "code",
   "execution_count": 13,
   "metadata": {
    "deletable": false
   },
   "outputs": [
    {
     "name": "stdout",
     "output_type": "stream",
     "text": [
      "The Kendall Tau Correlation Coefficient between list1 and list2 is: -0.6666666666666666\n"
     ]
    }
   ],
   "source": [
    "def kendall_tau(list1, list2):\n",
    "    \n",
    "    \"\"\" it checks if the two lists have the same length. If not,it raises a ValueError exception with the message:\n",
    "      “The two lists must have the same length.” \"\"\"\n",
    "    \n",
    "    # Check if the two lists have the same length\n",
    "    if len(list1) != len(list2):\n",
    "        # If not, raise a ValueError\n",
    "        raise ValueError(\"The two lists must have the same length.\")\n",
    "        \n",
    "    # Get the length of the lists    \n",
    "    n = len(list1)\n",
    "    \n",
    "    # Initialize the count of concordant and discordant pairs\n",
    "    concordant_pairs = 0\n",
    "    discordant_pairs = 0\n",
    "    \n",
    "    \"\"\"starts a nested loop that iterates over all possible pairs of numbers in the lists, using the indices \n",
    "    i and j. For each pair, it compares the values of list1[i] and list1[j] with the values of list2[i] and \n",
    "    list2[j]. If the values have the same order in both lists, it increments concordant_pairs by one. If the \n",
    "    values have the opposite order in both lists,it increments discordant_pairs by one.\"\"\"\n",
    "    for i in range(n):\n",
    "        for j in range(i + 1, n):\n",
    "            if (list1[i] < list1[j] and list2[i] < list2[j]) or (list1[i] > list1[j] and list2[i] > list2[j]):\n",
    "                concordant_pairs += 1\n",
    "            elif (list1[i] < list1[j] and list2[i] > list2[j]) or (list1[i] > list1[j] and list2[i] < list2[j]):\n",
    "                discordant_pairs += 1\n",
    "                \n",
    "    # Compute and return the Kendall Tau correlation coefficient            \n",
    "    return (concordant_pairs - discordant_pairs) / (0.5 * n * (n - 1))\n",
    "\n",
    "# Define two lists\n",
    "list1 = [1, 2, 3, 4, 5, 3]\n",
    "list2 = [5, 4, 3, 2, 1, 9]\n",
    "\n",
    "# Compute the Kendall Tau correlation coefficient between the two lists\n",
    "tau = kendall_tau(list1, list2)\n",
    "\n",
    "# Print the Kendall Tau correlation coefficient\n",
    "print(f\"The Kendall Tau Correlation Coefficient between list1 and list2 is: {tau}\")"
   ]
  },
  {
   "cell_type": "markdown",
   "metadata": {
    "deletable": false
   },
   "source": [
    "### Requirement FR4 - Develop a function to generate a set of Kendall Tau Correlation Coefficients for a data structure like the one generated in FR2"
   ]
  },
  {
   "cell_type": "code",
   "execution_count": 21,
   "metadata": {
    "deletable": false
   },
   "outputs": [
    {
     "name": "stdout",
     "output_type": "stream",
     "text": [
      "[\n",
      "  (\"﻿cancer\" and \"cardiovascular\" : 0.11177944862155388)\n",
      "  (\"﻿cancer\" and \"stroke\" : 0.24834814308498518)\n",
      "  (\"﻿cancer\" and \"depression\" : 0.22807017543859648)\n",
      "  (\"﻿cancer\" and \"rehab\" : 0.2889952153110048)\n",
      "  (\"﻿cancer\" and \"vaccine\" : 0.14996582365003416)\n",
      "  (\"﻿cancer\" and \"diarrhea\" : 0.22164502164502164)\n",
      "  (\"﻿cancer\" and \"obesity\" : 0.129004329004329)\n",
      "  (\"﻿cancer\" and \"diabetes\" : 0.1645477329687856)\n",
      "  (\"cardiovascular\" and \"stroke\" : 0.062109820004556844)\n",
      "  (\"cardiovascular\" and \"depression\" : 0.029300524037366143)\n",
      "  (\"cardiovascular\" and \"rehab\" : 0.15821371610845295)\n",
      "  (\"cardiovascular\" and \"vaccine\" : -0.09573934837092732)\n",
      "  (\"cardiovascular\" and \"diarrhea\" : -0.02073365231259968)\n",
      "  (\"cardiovascular\" and \"obesity\" : 0.16814764183185235)\n",
      "  (\"cardiovascular\" and \"diabetes\" : 0.10694919115971747)\n",
      "  (\"stroke\" and \"depression\" : 0.2379585326953748)\n",
      "  (\"stroke\" and \"rehab\" : 0.14007746639325586)\n",
      "  (\"stroke\" and \"vaccine\" : 0.08070175438596491)\n",
      "  (\"stroke\" and \"diarrhea\" : 0.25367965367965367)\n",
      "  (\"stroke\" and \"obesity\" : 0.05541125541125541)\n",
      "  (\"stroke\" and \"diabetes\" : 0.11045796308954203)\n",
      "  (\"depression\" and \"rehab\" : -0.012759170653907496)\n",
      "  (\"depression\" and \"vaccine\" : 0.2933697881066302)\n",
      "  (\"depression\" and \"diarrhea\" : 0.28940533151059467)\n",
      "  (\"depression\" and \"obesity\" : 0.22310321257689678)\n",
      "  (\"depression\" and \"diabetes\" : 0.10357712462975621)\n",
      "  (\"rehab\" and \"vaccine\" : -0.0759626338573707)\n",
      "  (\"rehab\" and \"diarrhea\" : 0.13028024606971975)\n",
      "  (\"rehab\" and \"obesity\" : -0.026475279106858055)\n",
      "  (\"rehab\" and \"diabetes\" : 0.10066074276600592)\n",
      "  (\"vaccine\" and \"diarrhea\" : 0.053041695146958306)\n",
      "  (\"vaccine\" and \"obesity\" : 0.23836864889496467)\n",
      "  (\"vaccine\" and \"diabetes\" : 0.09277739804055593)\n",
      "  (\"diarrhea\" and \"obesity\" : -0.08257006151742993)\n",
      "  (\"diarrhea\" and \"diabetes\" : 0.11510594668489406)\n",
      "  (\"obesity\" and \"diabetes\" : 0.11597174755069492)\n",
      "]\n"
     ]
    }
   ],
   "source": [
    "def generate_kendall_rank_correlation_coefficients(data):\n",
    "    \"\"\"\n",
    "    This function computes the Kendall rank correlation coefficients between all pairs of columns in a dictionary.\n",
    "    \"\"\"\n",
    "    # Check if the input data is a dictionary\n",
    "    if not isinstance(data, dict):\n",
    "        # If not, raise a ValueError\n",
    "        raise ValueError(\"The input data must be a dictionary.\")\n",
    "        \n",
    "    \"\"\"Here, data is a dictonary object & this function returns a list of the keys in the dictionary.\n",
    "    The columns variable is assigned this list of keys. \"\"\"\n",
    "    \n",
    "     # Get the column names from the dictionary keys\n",
    "    columns = list(data.keys())\n",
    "    \n",
    "    # Initialize an empty list to store the coefficients\n",
    "    coefficients = []\n",
    "    \n",
    "    \n",
    "    \"\"\" The outer loop iterates over the range of the length of the columns list, which is a list of the keys \n",
    "    in a dictonary data and the inner loop iterates over the range of the length of the columns list, starting from\n",
    "    the index of the outer loop plus one.This ensure that each pair of the columns is only compared once and \n",
    "    avoids comparing a column itself. \"\"\"\n",
    "    \n",
    "    \n",
    "    for i in range(len(columns)):\n",
    "        for j in range(i + 1, len(columns)):\n",
    "            # Get the lists of values for the current pair of columns\n",
    "            list1 = data[columns[i]]\n",
    "            list2 = data[columns[j]]\n",
    "            # Compute the Kendall Tau correlation coefficient for the current pair of columns\n",
    "            coefficient = kendall_tau(list1, list2)\n",
    "            # Append the column names and coefficient to the list\n",
    "            coefficients.append((columns[i], columns[j], coefficient))\n",
    "    return coefficients\n",
    "\n",
    "# Call the function with the dictionary of column values\n",
    "data = read_csv_data('task1.csv')\n",
    "coefficients = generate_kendall_rank_correlation_coefficients(data)\n",
    "\n",
    "# Print the Kendall Tau correlation coefficients for all pairs of columns\n",
    "print(\"[\")\n",
    "for coefficient in coefficients:\n",
    "    print(f'  (\"{coefficient[0]}\" and \"{coefficient[1]}\" : {coefficient[2]})')\n",
    "print(\"]\")"
   ]
  },
  {
   "cell_type": "markdown",
   "metadata": {
    "deletable": false
   },
   "source": [
    "### Requirement FR5 - Develop a function to print a custom table for selected data from a data structure like the one generated in FR4"
   ]
  },
  {
   "cell_type": "code",
   "execution_count": 116,
   "metadata": {
    "deletable": false
   },
   "outputs": [
    {
     "name": "stdout",
     "output_type": "stream",
     "text": [
      "*              *cardiovascular*    stroke    *  depression  *   vaccine    *   diarrhea   *\n",
      "*******************************************************************************************\n",
      "*cardiovascular*      -       *    0.0621    *    0.0293    *   -0.0957    *   -0.0207    *\n",
      "*    stroke    *    0.0621    *      -       *    0.2380    *    0.0807    *    0.2537    *\n",
      "*  depression  *    0.0293    *    0.2380    *      -       *    0.2934    *    0.2894    *\n",
      "*   vaccine    *   -0.0957    *    0.0807    *    0.2934    *      -       *    0.0530    *\n",
      "*   diarrhea   *   -0.0207    *    0.2537    *    0.2894    *    0.0530    *      -       *\n",
      "*******************************************************************************************\n"
     ]
    }
   ],
   "source": [
    "\"\"\"It defines the function print_custom_table that takes three arguments: data, border_char, and columns. \n",
    "This function prints a table with selected columns,& using the given border_char as the separator\"\"\"\n",
    "def print_custom_table(data, border_char, columns):\n",
    "    \"\"\" for determine the width of each cell in the table\"\"\"\n",
    "    max_column_length = max([len(column) for column in columns])\n",
    "    \n",
    "    '''Initializes an empty dictionary. The keys of this dictionary will be tuples of two column names, \n",
    "    and the values will be the Kendall tau correlation coefficients between those two columns where i called this \n",
    "    function from my previous code.'''\n",
    "    coef_dict = {}\n",
    "    '''Starts a loop over the columns.Returns each column along with its index.The index is stored in i and \n",
    "    the column name is stored in col1.'''\n",
    "    for i, col1 in enumerate(columns):\n",
    "        '''Starts a nested loop over the columns.Returns each column along with its index.The index is stored in j\n",
    "        and the column name is stored in col2.'''\n",
    "        for j, col2 in enumerate(columns):\n",
    "            '''ensure that we’re not trying to calculate the Kendall tau correlation of a column with itsel'''\n",
    "            if i != j:\n",
    "                '''calculates the Kendall tau correlation and store the values in dict with the key being the tuple'''\n",
    "                coef_dict[(col1, col2)] = kendall_tau(data[col1], data[col2])\n",
    "    \n",
    "    # Print header row\n",
    "    header = border_char + border_char.join([f\"{column:^{max_column_length}}\" for column in [''] + columns]) + border_char\n",
    "    print(header)\n",
    "    print(border_char * len(header))\n",
    "    \n",
    "    # Print data rows\n",
    "    '''Starts a loop over the columns. For each column col1, a new row will be printed in the table'''\n",
    "    for col1 in columns:\n",
    "        '''This 'row_data' list that will hold all the cells in the current row. The first cell is the name of the column col1, \n",
    "        which is centered within a space of max_column_length characters'''\n",
    "        row_data = [f\"{col1:^{max_column_length}}\"]\n",
    "        '''Starts a nested loop over the columns'''\n",
    "        for col2 in columns:\n",
    "            '''checks if col1 and col2 are the same column then print '-' '''\n",
    "            if col1 == col2:\n",
    "                value = '-'\n",
    "            else:\n",
    "                # Access the coefficient directly from the dictionary\n",
    "                value = coef_dict.get((col1, col2), coef_dict.get((col2, col1), ''))\n",
    "                # Check if the value is a float before applying the format specifier\n",
    "                value = f\"{value:^.4f}\" if isinstance(value, float) else value\n",
    "            row_data.append(f\"{value:^{max_column_length}}\")\n",
    "        \n",
    "        print(border_char + border_char.join(row_data) + border_char)\n",
    "    \n",
    "    # Print bottom border\n",
    "    '''After all the rows have been printed, this line prints the bottom border of the table. \n",
    "    The length of the border is the same as the length of the header row'''\n",
    "    print(border_char * len(header))\n",
    "\n",
    "#Call my previous function \n",
    "data = read_csv_data('task1.csv')\n",
    "\n",
    "# Select only a few columns\n",
    "selected_columns = ['cardiovascular', 'stroke', 'depression','vaccine','diarrhea']\n",
    "\n",
    "# Call the function with the selected columns\n",
    "print_custom_table(data, '*', selected_columns)\n"
   ]
  }
 ],
 "metadata": {
  "kernelspec": {
   "display_name": "Python 3 (ipykernel)",
   "language": "python",
   "name": "python3"
  },
  "language_info": {
   "codemirror_mode": {
    "name": "ipython",
    "version": 3
   },
   "file_extension": ".py",
   "mimetype": "text/x-python",
   "name": "python",
   "nbconvert_exporter": "python",
   "pygments_lexer": "ipython3",
   "version": "3.11.5"
  }
 },
 "nbformat": 4,
 "nbformat_minor": 4
}
